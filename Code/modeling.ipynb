{
 "cells": [
  {
   "cell_type": "code",
   "execution_count": 1,
   "id": "bc33a5ce",
   "metadata": {},
   "outputs": [],
   "source": [
    "import pymssql\n",
    "import pandas as pd"
   ]
  },
  {
   "cell_type": "markdown",
   "id": "a884014d",
   "metadata": {},
   "source": [
    "Read In Tables From Database"
   ]
  },
  {
   "cell_type": "code",
   "execution_count": 2,
   "id": "0af30071",
   "metadata": {},
   "outputs": [],
   "source": [
    "database = \"group4\"\n",
    "mortalityTable = \"dbo.mortality\"\n",
    "underweightTable = \"dbo.underweight\"\n",
    "waterTable = \"dbo.water\"\n",
    "malariaTable = \"dbo.malaria\"\n",
    "tbTable = \"dbo.tb\"\n",
    "user = \"group4user\"\n",
    "password  = \"everythingIsAwesome!\"\n",
    "server = \"database2108.database.windows.net\""
   ]
  },
  {
   "cell_type": "code",
   "execution_count": 3,
   "id": "9b642a7b",
   "metadata": {
    "scrolled": true
   },
   "outputs": [
    {
     "data": {
      "text/html": [
       "<div>\n",
       "<style scoped>\n",
       "    .dataframe tbody tr th:only-of-type {\n",
       "        vertical-align: middle;\n",
       "    }\n",
       "\n",
       "    .dataframe tbody tr th {\n",
       "        vertical-align: top;\n",
       "    }\n",
       "\n",
       "    .dataframe thead th {\n",
       "        text-align: right;\n",
       "    }\n",
       "</style>\n",
       "<table border=\"1\" class=\"dataframe\">\n",
       "  <thead>\n",
       "    <tr style=\"text-align: right;\">\n",
       "      <th></th>\n",
       "      <th>Country</th>\n",
       "      <th>Year</th>\n",
       "      <th>PercentMortality</th>\n",
       "    </tr>\n",
       "  </thead>\n",
       "  <tbody>\n",
       "    <tr>\n",
       "      <th>0</th>\n",
       "      <td>AFG</td>\n",
       "      <td>2000</td>\n",
       "      <td>31.6</td>\n",
       "    </tr>\n",
       "    <tr>\n",
       "      <th>1</th>\n",
       "      <td>AFG</td>\n",
       "      <td>2001</td>\n",
       "      <td>30.7</td>\n",
       "    </tr>\n",
       "    <tr>\n",
       "      <th>2</th>\n",
       "      <td>AFG</td>\n",
       "      <td>2002</td>\n",
       "      <td>29.2</td>\n",
       "    </tr>\n",
       "    <tr>\n",
       "      <th>3</th>\n",
       "      <td>AFG</td>\n",
       "      <td>2003</td>\n",
       "      <td>28.6</td>\n",
       "    </tr>\n",
       "    <tr>\n",
       "      <th>4</th>\n",
       "      <td>AFG</td>\n",
       "      <td>2004</td>\n",
       "      <td>28.2</td>\n",
       "    </tr>\n",
       "    <tr>\n",
       "      <th>...</th>\n",
       "      <td>...</td>\n",
       "      <td>...</td>\n",
       "      <td>...</td>\n",
       "    </tr>\n",
       "    <tr>\n",
       "      <th>3106</th>\n",
       "      <td>ZWE</td>\n",
       "      <td>2012</td>\n",
       "      <td>40.7</td>\n",
       "    </tr>\n",
       "    <tr>\n",
       "      <th>3107</th>\n",
       "      <td>ZWE</td>\n",
       "      <td>2013</td>\n",
       "      <td>38.3</td>\n",
       "    </tr>\n",
       "    <tr>\n",
       "      <th>3108</th>\n",
       "      <td>ZWE</td>\n",
       "      <td>2014</td>\n",
       "      <td>35.8</td>\n",
       "    </tr>\n",
       "    <tr>\n",
       "      <th>3109</th>\n",
       "      <td>ZWE</td>\n",
       "      <td>2015</td>\n",
       "      <td>34.6</td>\n",
       "    </tr>\n",
       "    <tr>\n",
       "      <th>3110</th>\n",
       "      <td>ZWE</td>\n",
       "      <td>2016</td>\n",
       "      <td>33.4</td>\n",
       "    </tr>\n",
       "  </tbody>\n",
       "</table>\n",
       "<p>3111 rows × 3 columns</p>\n",
       "</div>"
      ],
      "text/plain": [
       "     Country  Year  PercentMortality\n",
       "0        AFG  2000              31.6\n",
       "1        AFG  2001              30.7\n",
       "2        AFG  2002              29.2\n",
       "3        AFG  2003              28.6\n",
       "4        AFG  2004              28.2\n",
       "...      ...   ...               ...\n",
       "3106     ZWE  2012              40.7\n",
       "3107     ZWE  2013              38.3\n",
       "3108     ZWE  2014              35.8\n",
       "3109     ZWE  2015              34.6\n",
       "3110     ZWE  2016              33.4\n",
       "\n",
       "[3111 rows x 3 columns]"
      ]
     },
     "metadata": {},
     "output_type": "display_data"
    },
    {
     "data": {
      "text/html": [
       "<div>\n",
       "<style scoped>\n",
       "    .dataframe tbody tr th:only-of-type {\n",
       "        vertical-align: middle;\n",
       "    }\n",
       "\n",
       "    .dataframe tbody tr th {\n",
       "        vertical-align: top;\n",
       "    }\n",
       "\n",
       "    .dataframe thead th {\n",
       "        text-align: right;\n",
       "    }\n",
       "</style>\n",
       "<table border=\"1\" class=\"dataframe\">\n",
       "  <thead>\n",
       "    <tr style=\"text-align: right;\">\n",
       "      <th></th>\n",
       "      <th>Country</th>\n",
       "      <th>PercentUnderweightAdults</th>\n",
       "      <th>Year</th>\n",
       "    </tr>\n",
       "  </thead>\n",
       "  <tbody>\n",
       "    <tr>\n",
       "      <th>0</th>\n",
       "      <td>AFG</td>\n",
       "      <td>22.000000</td>\n",
       "      <td>2000</td>\n",
       "    </tr>\n",
       "    <tr>\n",
       "      <th>1</th>\n",
       "      <td>AFG</td>\n",
       "      <td>21.600000</td>\n",
       "      <td>2001</td>\n",
       "    </tr>\n",
       "    <tr>\n",
       "      <th>2</th>\n",
       "      <td>AFG</td>\n",
       "      <td>21.299999</td>\n",
       "      <td>2002</td>\n",
       "    </tr>\n",
       "    <tr>\n",
       "      <th>3</th>\n",
       "      <td>AFG</td>\n",
       "      <td>20.900000</td>\n",
       "      <td>2003</td>\n",
       "    </tr>\n",
       "    <tr>\n",
       "      <th>4</th>\n",
       "      <td>AFG</td>\n",
       "      <td>20.600000</td>\n",
       "      <td>2004</td>\n",
       "    </tr>\n",
       "    <tr>\n",
       "      <th>...</th>\n",
       "      <td>...</td>\n",
       "      <td>...</td>\n",
       "      <td>...</td>\n",
       "    </tr>\n",
       "    <tr>\n",
       "      <th>3293</th>\n",
       "      <td>ZWE</td>\n",
       "      <td>8.300000</td>\n",
       "      <td>2012</td>\n",
       "    </tr>\n",
       "    <tr>\n",
       "      <th>3294</th>\n",
       "      <td>ZWE</td>\n",
       "      <td>8.200000</td>\n",
       "      <td>2013</td>\n",
       "    </tr>\n",
       "    <tr>\n",
       "      <th>3295</th>\n",
       "      <td>ZWE</td>\n",
       "      <td>8.100000</td>\n",
       "      <td>2014</td>\n",
       "    </tr>\n",
       "    <tr>\n",
       "      <th>3296</th>\n",
       "      <td>ZWE</td>\n",
       "      <td>8.000000</td>\n",
       "      <td>2015</td>\n",
       "    </tr>\n",
       "    <tr>\n",
       "      <th>3297</th>\n",
       "      <td>ZWE</td>\n",
       "      <td>7.900000</td>\n",
       "      <td>2016</td>\n",
       "    </tr>\n",
       "  </tbody>\n",
       "</table>\n",
       "<p>3298 rows × 3 columns</p>\n",
       "</div>"
      ],
      "text/plain": [
       "     Country  PercentUnderweightAdults  Year\n",
       "0        AFG                 22.000000  2000\n",
       "1        AFG                 21.600000  2001\n",
       "2        AFG                 21.299999  2002\n",
       "3        AFG                 20.900000  2003\n",
       "4        AFG                 20.600000  2004\n",
       "...      ...                       ...   ...\n",
       "3293     ZWE                  8.300000  2012\n",
       "3294     ZWE                  8.200000  2013\n",
       "3295     ZWE                  8.100000  2014\n",
       "3296     ZWE                  8.000000  2015\n",
       "3297     ZWE                  7.900000  2016\n",
       "\n",
       "[3298 rows x 3 columns]"
      ]
     },
     "metadata": {},
     "output_type": "display_data"
    },
    {
     "data": {
      "text/html": [
       "<div>\n",
       "<style scoped>\n",
       "    .dataframe tbody tr th:only-of-type {\n",
       "        vertical-align: middle;\n",
       "    }\n",
       "\n",
       "    .dataframe tbody tr th {\n",
       "        vertical-align: top;\n",
       "    }\n",
       "\n",
       "    .dataframe thead th {\n",
       "        text-align: right;\n",
       "    }\n",
       "</style>\n",
       "<table border=\"1\" class=\"dataframe\">\n",
       "  <thead>\n",
       "    <tr style=\"text-align: right;\">\n",
       "      <th></th>\n",
       "      <th>Country</th>\n",
       "      <th>Year</th>\n",
       "      <th>PercentWater</th>\n",
       "    </tr>\n",
       "  </thead>\n",
       "  <tbody>\n",
       "    <tr>\n",
       "      <th>0</th>\n",
       "      <td>AFG</td>\n",
       "      <td>2000</td>\n",
       "      <td>28.171419</td>\n",
       "    </tr>\n",
       "    <tr>\n",
       "      <th>1</th>\n",
       "      <td>AFG</td>\n",
       "      <td>2001</td>\n",
       "      <td>28.199369</td>\n",
       "    </tr>\n",
       "    <tr>\n",
       "      <th>2</th>\n",
       "      <td>AFG</td>\n",
       "      <td>2002</td>\n",
       "      <td>30.236380</td>\n",
       "    </tr>\n",
       "    <tr>\n",
       "      <th>3</th>\n",
       "      <td>AFG</td>\n",
       "      <td>2003</td>\n",
       "      <td>32.273720</td>\n",
       "    </tr>\n",
       "    <tr>\n",
       "      <th>4</th>\n",
       "      <td>AFG</td>\n",
       "      <td>2004</td>\n",
       "      <td>34.328560</td>\n",
       "    </tr>\n",
       "    <tr>\n",
       "      <th>...</th>\n",
       "      <td>...</td>\n",
       "      <td>...</td>\n",
       "      <td>...</td>\n",
       "    </tr>\n",
       "    <tr>\n",
       "      <th>4111</th>\n",
       "      <td>ZWE</td>\n",
       "      <td>2016</td>\n",
       "      <td>64.468964</td>\n",
       "    </tr>\n",
       "    <tr>\n",
       "      <th>4112</th>\n",
       "      <td>ZWE</td>\n",
       "      <td>2017</td>\n",
       "      <td>63.996620</td>\n",
       "    </tr>\n",
       "    <tr>\n",
       "      <th>4113</th>\n",
       "      <td>ZWE</td>\n",
       "      <td>2018</td>\n",
       "      <td>63.538769</td>\n",
       "    </tr>\n",
       "    <tr>\n",
       "      <th>4114</th>\n",
       "      <td>ZWE</td>\n",
       "      <td>2019</td>\n",
       "      <td>63.094959</td>\n",
       "    </tr>\n",
       "    <tr>\n",
       "      <th>4115</th>\n",
       "      <td>ZWE</td>\n",
       "      <td>2020</td>\n",
       "      <td>62.666458</td>\n",
       "    </tr>\n",
       "  </tbody>\n",
       "</table>\n",
       "<p>4116 rows × 3 columns</p>\n",
       "</div>"
      ],
      "text/plain": [
       "     Country  Year  PercentWater\n",
       "0        AFG  2000     28.171419\n",
       "1        AFG  2001     28.199369\n",
       "2        AFG  2002     30.236380\n",
       "3        AFG  2003     32.273720\n",
       "4        AFG  2004     34.328560\n",
       "...      ...   ...           ...\n",
       "4111     ZWE  2016     64.468964\n",
       "4112     ZWE  2017     63.996620\n",
       "4113     ZWE  2018     63.538769\n",
       "4114     ZWE  2019     63.094959\n",
       "4115     ZWE  2020     62.666458\n",
       "\n",
       "[4116 rows x 3 columns]"
      ]
     },
     "metadata": {},
     "output_type": "display_data"
    },
    {
     "data": {
      "text/html": [
       "<div>\n",
       "<style scoped>\n",
       "    .dataframe tbody tr th:only-of-type {\n",
       "        vertical-align: middle;\n",
       "    }\n",
       "\n",
       "    .dataframe tbody tr th {\n",
       "        vertical-align: top;\n",
       "    }\n",
       "\n",
       "    .dataframe thead th {\n",
       "        text-align: right;\n",
       "    }\n",
       "</style>\n",
       "<table border=\"1\" class=\"dataframe\">\n",
       "  <thead>\n",
       "    <tr style=\"text-align: right;\">\n",
       "      <th></th>\n",
       "      <th>Country</th>\n",
       "      <th>Year</th>\n",
       "      <th>PercentMalaria</th>\n",
       "    </tr>\n",
       "  </thead>\n",
       "  <tbody>\n",
       "    <tr>\n",
       "      <th>0</th>\n",
       "      <td>ABW</td>\n",
       "      <td>2000</td>\n",
       "      <td>0.0</td>\n",
       "    </tr>\n",
       "    <tr>\n",
       "      <th>1</th>\n",
       "      <td>ABW</td>\n",
       "      <td>2001</td>\n",
       "      <td>0.0</td>\n",
       "    </tr>\n",
       "    <tr>\n",
       "      <th>2</th>\n",
       "      <td>ABW</td>\n",
       "      <td>2002</td>\n",
       "      <td>0.0</td>\n",
       "    </tr>\n",
       "    <tr>\n",
       "      <th>3</th>\n",
       "      <td>ABW</td>\n",
       "      <td>2003</td>\n",
       "      <td>0.0</td>\n",
       "    </tr>\n",
       "    <tr>\n",
       "      <th>4</th>\n",
       "      <td>ABW</td>\n",
       "      <td>2004</td>\n",
       "      <td>0.0</td>\n",
       "    </tr>\n",
       "    <tr>\n",
       "      <th>...</th>\n",
       "      <td>...</td>\n",
       "      <td>...</td>\n",
       "      <td>...</td>\n",
       "    </tr>\n",
       "    <tr>\n",
       "      <th>4955</th>\n",
       "      <td>ZWE</td>\n",
       "      <td>2015</td>\n",
       "      <td>9.7</td>\n",
       "    </tr>\n",
       "    <tr>\n",
       "      <th>4956</th>\n",
       "      <td>ZWE</td>\n",
       "      <td>2016</td>\n",
       "      <td>6.8</td>\n",
       "    </tr>\n",
       "    <tr>\n",
       "      <th>4957</th>\n",
       "      <td>ZWE</td>\n",
       "      <td>2017</td>\n",
       "      <td>11.7</td>\n",
       "    </tr>\n",
       "    <tr>\n",
       "      <th>4958</th>\n",
       "      <td>ZWE</td>\n",
       "      <td>2018</td>\n",
       "      <td>5.5</td>\n",
       "    </tr>\n",
       "    <tr>\n",
       "      <th>4959</th>\n",
       "      <td>ZWE</td>\n",
       "      <td>2019</td>\n",
       "      <td>6.7</td>\n",
       "    </tr>\n",
       "  </tbody>\n",
       "</table>\n",
       "<p>4960 rows × 3 columns</p>\n",
       "</div>"
      ],
      "text/plain": [
       "     Country  Year  PercentMalaria\n",
       "0        ABW  2000             0.0\n",
       "1        ABW  2001             0.0\n",
       "2        ABW  2002             0.0\n",
       "3        ABW  2003             0.0\n",
       "4        ABW  2004             0.0\n",
       "...      ...   ...             ...\n",
       "4955     ZWE  2015             9.7\n",
       "4956     ZWE  2016             6.8\n",
       "4957     ZWE  2017            11.7\n",
       "4958     ZWE  2018             5.5\n",
       "4959     ZWE  2019             6.7\n",
       "\n",
       "[4960 rows x 3 columns]"
      ]
     },
     "metadata": {},
     "output_type": "display_data"
    },
    {
     "data": {
      "text/html": [
       "<div>\n",
       "<style scoped>\n",
       "    .dataframe tbody tr th:only-of-type {\n",
       "        vertical-align: middle;\n",
       "    }\n",
       "\n",
       "    .dataframe tbody tr th {\n",
       "        vertical-align: top;\n",
       "    }\n",
       "\n",
       "    .dataframe thead th {\n",
       "        text-align: right;\n",
       "    }\n",
       "</style>\n",
       "<table border=\"1\" class=\"dataframe\">\n",
       "  <thead>\n",
       "    <tr style=\"text-align: right;\">\n",
       "      <th></th>\n",
       "      <th>Country</th>\n",
       "      <th>Year</th>\n",
       "      <th>PercentTb</th>\n",
       "    </tr>\n",
       "  </thead>\n",
       "  <tbody>\n",
       "    <tr>\n",
       "      <th>0</th>\n",
       "      <td>AFG</td>\n",
       "      <td>2000</td>\n",
       "      <td>0.190</td>\n",
       "    </tr>\n",
       "    <tr>\n",
       "      <th>1</th>\n",
       "      <td>AFG</td>\n",
       "      <td>2001</td>\n",
       "      <td>0.189</td>\n",
       "    </tr>\n",
       "    <tr>\n",
       "      <th>2</th>\n",
       "      <td>AFG</td>\n",
       "      <td>2002</td>\n",
       "      <td>0.189</td>\n",
       "    </tr>\n",
       "    <tr>\n",
       "      <th>3</th>\n",
       "      <td>AFG</td>\n",
       "      <td>2003</td>\n",
       "      <td>0.189</td>\n",
       "    </tr>\n",
       "    <tr>\n",
       "      <th>4</th>\n",
       "      <td>AFG</td>\n",
       "      <td>2004</td>\n",
       "      <td>0.189</td>\n",
       "    </tr>\n",
       "    <tr>\n",
       "      <th>...</th>\n",
       "      <td>...</td>\n",
       "      <td>...</td>\n",
       "      <td>...</td>\n",
       "    </tr>\n",
       "    <tr>\n",
       "      <th>3459</th>\n",
       "      <td>ZWE</td>\n",
       "      <td>2016</td>\n",
       "      <td>0.233</td>\n",
       "    </tr>\n",
       "    <tr>\n",
       "      <th>3460</th>\n",
       "      <td>ZWE</td>\n",
       "      <td>2017</td>\n",
       "      <td>0.221</td>\n",
       "    </tr>\n",
       "    <tr>\n",
       "      <th>3461</th>\n",
       "      <td>ZWE</td>\n",
       "      <td>2018</td>\n",
       "      <td>0.210</td>\n",
       "    </tr>\n",
       "    <tr>\n",
       "      <th>3462</th>\n",
       "      <td>ZWE</td>\n",
       "      <td>2019</td>\n",
       "      <td>0.199</td>\n",
       "    </tr>\n",
       "    <tr>\n",
       "      <th>3463</th>\n",
       "      <td>ZWE</td>\n",
       "      <td>2020</td>\n",
       "      <td>0.193</td>\n",
       "    </tr>\n",
       "  </tbody>\n",
       "</table>\n",
       "<p>3464 rows × 3 columns</p>\n",
       "</div>"
      ],
      "text/plain": [
       "     Country  Year  PercentTb\n",
       "0        AFG  2000      0.190\n",
       "1        AFG  2001      0.189\n",
       "2        AFG  2002      0.189\n",
       "3        AFG  2003      0.189\n",
       "4        AFG  2004      0.189\n",
       "...      ...   ...        ...\n",
       "3459     ZWE  2016      0.233\n",
       "3460     ZWE  2017      0.221\n",
       "3461     ZWE  2018      0.210\n",
       "3462     ZWE  2019      0.199\n",
       "3463     ZWE  2020      0.193\n",
       "\n",
       "[3464 rows x 3 columns]"
      ]
     },
     "metadata": {},
     "output_type": "display_data"
    }
   ],
   "source": [
    "conn = pymssql.connect(server, user, password, database)\n",
    "\n",
    "dfMortal = pd.read_sql(f\"SELECT * FROM {mortalityTable}\", conn)\n",
    "dfUnder = pd.read_sql(f\"SELECT * FROM {underweightTable}\", conn)\n",
    "dfWater = pd.read_sql(f\"SELECT * FROM {waterTable}\", conn)\n",
    "dfMalaria = pd.read_sql(f\"SELECT * FROM {malariaTable}\", conn)\n",
    "dfTb = pd.read_sql(f\"SELECT * FROM {tbTable}\", conn)\n",
    "\n",
    "display(dfMortal)\n",
    "display(dfUnder)\n",
    "display(dfWater)\n",
    "display(dfMalaria)\n",
    "display(dfTb)"
   ]
  },
  {
   "cell_type": "markdown",
   "id": "86319f50",
   "metadata": {},
   "source": [
    "Joined Tables To Create Features Table"
   ]
  },
  {
   "cell_type": "code",
   "execution_count": 4,
   "id": "68a97545",
   "metadata": {
    "scrolled": true
   },
   "outputs": [
    {
     "data": {
      "text/html": [
       "<div>\n",
       "<style scoped>\n",
       "    .dataframe tbody tr th:only-of-type {\n",
       "        vertical-align: middle;\n",
       "    }\n",
       "\n",
       "    .dataframe tbody tr th {\n",
       "        vertical-align: top;\n",
       "    }\n",
       "\n",
       "    .dataframe thead th {\n",
       "        text-align: right;\n",
       "    }\n",
       "</style>\n",
       "<table border=\"1\" class=\"dataframe\">\n",
       "  <thead>\n",
       "    <tr style=\"text-align: right;\">\n",
       "      <th></th>\n",
       "      <th>Country</th>\n",
       "      <th>Year</th>\n",
       "      <th>PercentWater</th>\n",
       "      <th>PercentUnderweightAdults</th>\n",
       "      <th>PercentMortality</th>\n",
       "      <th>PercentMalaria</th>\n",
       "      <th>PercentTb</th>\n",
       "    </tr>\n",
       "  </thead>\n",
       "  <tbody>\n",
       "    <tr>\n",
       "      <th>0</th>\n",
       "      <td>AFG</td>\n",
       "      <td>2000</td>\n",
       "      <td>28.171419</td>\n",
       "      <td>22.000000</td>\n",
       "      <td>31.6</td>\n",
       "      <td>8.2</td>\n",
       "      <td>0.190</td>\n",
       "    </tr>\n",
       "    <tr>\n",
       "      <th>1</th>\n",
       "      <td>AFG</td>\n",
       "      <td>2001</td>\n",
       "      <td>28.199369</td>\n",
       "      <td>21.600000</td>\n",
       "      <td>30.7</td>\n",
       "      <td>7.9</td>\n",
       "      <td>0.189</td>\n",
       "    </tr>\n",
       "    <tr>\n",
       "      <th>2</th>\n",
       "      <td>AFG</td>\n",
       "      <td>2002</td>\n",
       "      <td>30.236380</td>\n",
       "      <td>21.299999</td>\n",
       "      <td>29.2</td>\n",
       "      <td>7.9</td>\n",
       "      <td>0.189</td>\n",
       "    </tr>\n",
       "    <tr>\n",
       "      <th>3</th>\n",
       "      <td>AFG</td>\n",
       "      <td>2003</td>\n",
       "      <td>32.273720</td>\n",
       "      <td>20.900000</td>\n",
       "      <td>28.6</td>\n",
       "      <td>6.8</td>\n",
       "      <td>0.189</td>\n",
       "    </tr>\n",
       "    <tr>\n",
       "      <th>4</th>\n",
       "      <td>AFG</td>\n",
       "      <td>2004</td>\n",
       "      <td>34.328560</td>\n",
       "      <td>20.600000</td>\n",
       "      <td>28.2</td>\n",
       "      <td>3.7</td>\n",
       "      <td>0.189</td>\n",
       "    </tr>\n",
       "    <tr>\n",
       "      <th>...</th>\n",
       "      <td>...</td>\n",
       "      <td>...</td>\n",
       "      <td>...</td>\n",
       "      <td>...</td>\n",
       "      <td>...</td>\n",
       "      <td>...</td>\n",
       "      <td>...</td>\n",
       "    </tr>\n",
       "    <tr>\n",
       "      <th>3083</th>\n",
       "      <td>ZWE</td>\n",
       "      <td>2012</td>\n",
       "      <td>66.491180</td>\n",
       "      <td>8.300000</td>\n",
       "      <td>40.7</td>\n",
       "      <td>5.7</td>\n",
       "      <td>0.355</td>\n",
       "    </tr>\n",
       "    <tr>\n",
       "      <th>3084</th>\n",
       "      <td>ZWE</td>\n",
       "      <td>2013</td>\n",
       "      <td>65.966469</td>\n",
       "      <td>8.200000</td>\n",
       "      <td>38.3</td>\n",
       "      <td>8.1</td>\n",
       "      <td>0.304</td>\n",
       "    </tr>\n",
       "    <tr>\n",
       "      <th>3085</th>\n",
       "      <td>ZWE</td>\n",
       "      <td>2014</td>\n",
       "      <td>65.454109</td>\n",
       "      <td>8.100000</td>\n",
       "      <td>35.8</td>\n",
       "      <td>10.1</td>\n",
       "      <td>0.278</td>\n",
       "    </tr>\n",
       "    <tr>\n",
       "      <th>3086</th>\n",
       "      <td>ZWE</td>\n",
       "      <td>2015</td>\n",
       "      <td>64.954933</td>\n",
       "      <td>8.000000</td>\n",
       "      <td>34.6</td>\n",
       "      <td>9.7</td>\n",
       "      <td>0.242</td>\n",
       "    </tr>\n",
       "    <tr>\n",
       "      <th>3087</th>\n",
       "      <td>ZWE</td>\n",
       "      <td>2016</td>\n",
       "      <td>64.468964</td>\n",
       "      <td>7.900000</td>\n",
       "      <td>33.4</td>\n",
       "      <td>6.8</td>\n",
       "      <td>0.233</td>\n",
       "    </tr>\n",
       "  </tbody>\n",
       "</table>\n",
       "<p>3088 rows × 7 columns</p>\n",
       "</div>"
      ],
      "text/plain": [
       "     Country  Year  PercentWater  PercentUnderweightAdults  PercentMortality  \\\n",
       "0        AFG  2000     28.171419                 22.000000              31.6   \n",
       "1        AFG  2001     28.199369                 21.600000              30.7   \n",
       "2        AFG  2002     30.236380                 21.299999              29.2   \n",
       "3        AFG  2003     32.273720                 20.900000              28.6   \n",
       "4        AFG  2004     34.328560                 20.600000              28.2   \n",
       "...      ...   ...           ...                       ...               ...   \n",
       "3083     ZWE  2012     66.491180                  8.300000              40.7   \n",
       "3084     ZWE  2013     65.966469                  8.200000              38.3   \n",
       "3085     ZWE  2014     65.454109                  8.100000              35.8   \n",
       "3086     ZWE  2015     64.954933                  8.000000              34.6   \n",
       "3087     ZWE  2016     64.468964                  7.900000              33.4   \n",
       "\n",
       "      PercentMalaria  PercentTb  \n",
       "0                8.2      0.190  \n",
       "1                7.9      0.189  \n",
       "2                7.9      0.189  \n",
       "3                6.8      0.189  \n",
       "4                3.7      0.189  \n",
       "...              ...        ...  \n",
       "3083             5.7      0.355  \n",
       "3084             8.1      0.304  \n",
       "3085            10.1      0.278  \n",
       "3086             9.7      0.242  \n",
       "3087             6.8      0.233  \n",
       "\n",
       "[3088 rows x 7 columns]"
      ]
     },
     "metadata": {},
     "output_type": "display_data"
    }
   ],
   "source": [
    "from sklearn.preprocessing import StandardScaler\n",
    "from sklearn.compose import ColumnTransformer\n",
    "\n",
    "joined = dfWater.merge(dfUnder, on = [\"Country\", \"Year\"]) \\\n",
    "                .merge(dfMortal, on = [\"Country\", \"Year\"]) \\\n",
    "                .merge(dfMalaria, on = [\"Country\", \"Year\"]) \\\n",
    "                .merge(dfTb, on = [\"Country\", \"Year\"])\n",
    "\n",
    "display(joined)"
   ]
  },
  {
   "cell_type": "markdown",
   "id": "99c611bd",
   "metadata": {},
   "source": [
    "Split Set into Training and Testing Sets"
   ]
  },
  {
   "cell_type": "code",
   "execution_count": 5,
   "id": "0271bd0e",
   "metadata": {},
   "outputs": [],
   "source": [
    "from sklearn.model_selection import train_test_split\n",
    "X = joined.drop([\"Country\", \"Year\", \"PercentMortality\"], axis = 1)\n",
    "y = joined[\"PercentMortality\"]\n",
    "X_train, X_test, y_train, y_test = train_test_split(\n",
    "    X, y, test_size = 0.25, random_state = 0)"
   ]
  },
  {
   "cell_type": "markdown",
   "id": "47e203d7",
   "metadata": {},
   "source": [
    "Run Grid Search on Best Performing Model from Manual Tests"
   ]
  },
  {
   "cell_type": "code",
   "execution_count": 6,
   "id": "3462a1e0",
   "metadata": {
    "scrolled": true
   },
   "outputs": [
    {
     "name": "stdout",
     "output_type": "stream",
     "text": [
      "Fitting 5 folds for each of 20 candidates, totalling 100 fits\n",
      "[CV 1/5] END criterion=squared_error, n_estimators=60, random_state=0;, score=0.946 total time=   0.1s\n",
      "[CV 2/5] END criterion=squared_error, n_estimators=60, random_state=0;, score=0.934 total time=   0.1s\n",
      "[CV 3/5] END criterion=squared_error, n_estimators=60, random_state=0;, score=0.958 total time=   0.1s\n",
      "[CV 4/5] END criterion=squared_error, n_estimators=60, random_state=0;, score=0.944 total time=   0.1s\n",
      "[CV 5/5] END criterion=squared_error, n_estimators=60, random_state=0;, score=0.967 total time=   0.1s\n",
      "[CV 1/5] END criterion=squared_error, n_estimators=70, random_state=0;, score=0.945 total time=   0.1s\n",
      "[CV 2/5] END criterion=squared_error, n_estimators=70, random_state=0;, score=0.934 total time=   0.1s\n",
      "[CV 3/5] END criterion=squared_error, n_estimators=70, random_state=0;, score=0.959 total time=   0.1s\n",
      "[CV 4/5] END criterion=squared_error, n_estimators=70, random_state=0;, score=0.944 total time=   0.1s\n",
      "[CV 5/5] END criterion=squared_error, n_estimators=70, random_state=0;, score=0.967 total time=   0.1s\n",
      "[CV 1/5] END criterion=squared_error, n_estimators=80, random_state=0;, score=0.946 total time=   0.2s\n",
      "[CV 2/5] END criterion=squared_error, n_estimators=80, random_state=0;, score=0.934 total time=   0.2s\n",
      "[CV 3/5] END criterion=squared_error, n_estimators=80, random_state=0;, score=0.960 total time=   0.2s\n",
      "[CV 4/5] END criterion=squared_error, n_estimators=80, random_state=0;, score=0.946 total time=   0.1s\n",
      "[CV 5/5] END criterion=squared_error, n_estimators=80, random_state=0;, score=0.967 total time=   0.1s\n",
      "[CV 1/5] END criterion=squared_error, n_estimators=90, random_state=0;, score=0.946 total time=   0.2s\n",
      "[CV 2/5] END criterion=squared_error, n_estimators=90, random_state=0;, score=0.934 total time=   0.2s\n",
      "[CV 3/5] END criterion=squared_error, n_estimators=90, random_state=0;, score=0.959 total time=   0.2s\n",
      "[CV 4/5] END criterion=squared_error, n_estimators=90, random_state=0;, score=0.946 total time=   0.2s\n",
      "[CV 5/5] END criterion=squared_error, n_estimators=90, random_state=0;, score=0.967 total time=   0.2s\n",
      "[CV 1/5] END criterion=squared_error, n_estimators=100, random_state=0;, score=0.948 total time=   0.2s\n",
      "[CV 2/5] END criterion=squared_error, n_estimators=100, random_state=0;, score=0.933 total time=   0.2s\n",
      "[CV 3/5] END criterion=squared_error, n_estimators=100, random_state=0;, score=0.960 total time=   0.2s\n",
      "[CV 4/5] END criterion=squared_error, n_estimators=100, random_state=0;, score=0.945 total time=   0.2s\n",
      "[CV 5/5] END criterion=squared_error, n_estimators=100, random_state=0;, score=0.967 total time=   0.2s\n",
      "[CV 1/5] END criterion=squared_error, n_estimators=110, random_state=0;, score=0.948 total time=   0.2s\n",
      "[CV 2/5] END criterion=squared_error, n_estimators=110, random_state=0;, score=0.933 total time=   0.2s\n",
      "[CV 3/5] END criterion=squared_error, n_estimators=110, random_state=0;, score=0.960 total time=   0.2s\n",
      "[CV 4/5] END criterion=squared_error, n_estimators=110, random_state=0;, score=0.946 total time=   0.2s\n",
      "[CV 5/5] END criterion=squared_error, n_estimators=110, random_state=0;, score=0.967 total time=   0.2s\n",
      "[CV 1/5] END criterion=squared_error, n_estimators=120, random_state=0;, score=0.948 total time=   0.3s\n",
      "[CV 2/5] END criterion=squared_error, n_estimators=120, random_state=0;, score=0.933 total time=   0.3s\n",
      "[CV 3/5] END criterion=squared_error, n_estimators=120, random_state=0;, score=0.960 total time=   0.3s\n",
      "[CV 4/5] END criterion=squared_error, n_estimators=120, random_state=0;, score=0.946 total time=   0.3s\n",
      "[CV 5/5] END criterion=squared_error, n_estimators=120, random_state=0;, score=0.967 total time=   0.3s\n",
      "[CV 1/5] END criterion=squared_error, n_estimators=130, random_state=0;, score=0.949 total time=   0.3s\n",
      "[CV 2/5] END criterion=squared_error, n_estimators=130, random_state=0;, score=0.933 total time=   0.3s\n",
      "[CV 3/5] END criterion=squared_error, n_estimators=130, random_state=0;, score=0.960 total time=   0.3s\n",
      "[CV 4/5] END criterion=squared_error, n_estimators=130, random_state=0;, score=0.945 total time=   0.3s\n",
      "[CV 5/5] END criterion=squared_error, n_estimators=130, random_state=0;, score=0.968 total time=   0.3s\n",
      "[CV 1/5] END criterion=squared_error, n_estimators=140, random_state=0;, score=0.949 total time=   0.3s\n",
      "[CV 2/5] END criterion=squared_error, n_estimators=140, random_state=0;, score=0.933 total time=   0.3s\n",
      "[CV 3/5] END criterion=squared_error, n_estimators=140, random_state=0;, score=0.961 total time=   0.4s\n",
      "[CV 4/5] END criterion=squared_error, n_estimators=140, random_state=0;, score=0.945 total time=   0.3s\n",
      "[CV 5/5] END criterion=squared_error, n_estimators=140, random_state=0;, score=0.968 total time=   0.3s\n",
      "[CV 1/5] END criterion=squared_error, n_estimators=150, random_state=0;, score=0.950 total time=   0.4s\n",
      "[CV 2/5] END criterion=squared_error, n_estimators=150, random_state=0;, score=0.933 total time=   0.4s\n",
      "[CV 3/5] END criterion=squared_error, n_estimators=150, random_state=0;, score=0.960 total time=   0.4s\n",
      "[CV 4/5] END criterion=squared_error, n_estimators=150, random_state=0;, score=0.946 total time=   0.3s\n",
      "[CV 5/5] END criterion=squared_error, n_estimators=150, random_state=0;, score=0.968 total time=   0.4s\n",
      "[CV 1/5] END criterion=absolute_error, n_estimators=60, random_state=0;, score=0.947 total time=   2.1s\n",
      "[CV 2/5] END criterion=absolute_error, n_estimators=60, random_state=0;, score=0.934 total time=   2.1s\n",
      "[CV 3/5] END criterion=absolute_error, n_estimators=60, random_state=0;, score=0.958 total time=   2.4s\n",
      "[CV 4/5] END criterion=absolute_error, n_estimators=60, random_state=0;, score=0.951 total time=   2.4s\n",
      "[CV 5/5] END criterion=absolute_error, n_estimators=60, random_state=0;, score=0.964 total time=   2.7s\n",
      "[CV 1/5] END criterion=absolute_error, n_estimators=70, random_state=0;, score=0.948 total time=   4.3s\n",
      "[CV 2/5] END criterion=absolute_error, n_estimators=70, random_state=0;, score=0.935 total time=   4.4s\n",
      "[CV 3/5] END criterion=absolute_error, n_estimators=70, random_state=0;, score=0.957 total time=   3.9s\n",
      "[CV 4/5] END criterion=absolute_error, n_estimators=70, random_state=0;, score=0.951 total time=   4.1s\n",
      "[CV 5/5] END criterion=absolute_error, n_estimators=70, random_state=0;, score=0.964 total time=   4.6s\n",
      "[CV 1/5] END criterion=absolute_error, n_estimators=80, random_state=0;, score=0.947 total time=   3.2s\n",
      "[CV 2/5] END criterion=absolute_error, n_estimators=80, random_state=0;, score=0.935 total time=   3.2s\n",
      "[CV 3/5] END criterion=absolute_error, n_estimators=80, random_state=0;, score=0.958 total time=   3.3s\n",
      "[CV 4/5] END criterion=absolute_error, n_estimators=80, random_state=0;, score=0.950 total time=   3.1s\n",
      "[CV 5/5] END criterion=absolute_error, n_estimators=80, random_state=0;, score=0.965 total time=   3.1s\n",
      "[CV 1/5] END criterion=absolute_error, n_estimators=90, random_state=0;, score=0.946 total time=   3.4s\n",
      "[CV 2/5] END criterion=absolute_error, n_estimators=90, random_state=0;, score=0.935 total time=   3.4s\n",
      "[CV 3/5] END criterion=absolute_error, n_estimators=90, random_state=0;, score=0.959 total time=   3.4s\n",
      "[CV 4/5] END criterion=absolute_error, n_estimators=90, random_state=0;, score=0.950 total time=   3.3s\n",
      "[CV 5/5] END criterion=absolute_error, n_estimators=90, random_state=0;, score=0.965 total time=   3.5s\n",
      "[CV 1/5] END criterion=absolute_error, n_estimators=100, random_state=0;, score=0.946 total time=   3.8s\n",
      "[CV 2/5] END criterion=absolute_error, n_estimators=100, random_state=0;, score=0.936 total time=   3.9s\n",
      "[CV 3/5] END criterion=absolute_error, n_estimators=100, random_state=0;, score=0.959 total time=   6.7s\n",
      "[CV 4/5] END criterion=absolute_error, n_estimators=100, random_state=0;, score=0.949 total time=   4.0s\n",
      "[CV 5/5] END criterion=absolute_error, n_estimators=100, random_state=0;, score=0.965 total time=   3.8s\n",
      "[CV 1/5] END criterion=absolute_error, n_estimators=110, random_state=0;, score=0.948 total time=   5.5s\n",
      "[CV 2/5] END criterion=absolute_error, n_estimators=110, random_state=0;, score=0.936 total time=   5.2s\n",
      "[CV 3/5] END criterion=absolute_error, n_estimators=110, random_state=0;, score=0.959 total time=   5.4s\n",
      "[CV 4/5] END criterion=absolute_error, n_estimators=110, random_state=0;, score=0.948 total time=   5.0s\n"
     ]
    },
    {
     "name": "stdout",
     "output_type": "stream",
     "text": [
      "[CV 5/5] END criterion=absolute_error, n_estimators=110, random_state=0;, score=0.965 total time=   4.5s\n",
      "[CV 1/5] END criterion=absolute_error, n_estimators=120, random_state=0;, score=0.947 total time=   5.0s\n",
      "[CV 2/5] END criterion=absolute_error, n_estimators=120, random_state=0;, score=0.936 total time=   4.9s\n",
      "[CV 3/5] END criterion=absolute_error, n_estimators=120, random_state=0;, score=0.960 total time=   5.4s\n",
      "[CV 4/5] END criterion=absolute_error, n_estimators=120, random_state=0;, score=0.948 total time=   4.6s\n",
      "[CV 5/5] END criterion=absolute_error, n_estimators=120, random_state=0;, score=0.966 total time=   4.8s\n",
      "[CV 1/5] END criterion=absolute_error, n_estimators=130, random_state=0;, score=0.946 total time=   5.2s\n",
      "[CV 2/5] END criterion=absolute_error, n_estimators=130, random_state=0;, score=0.936 total time=   4.9s\n",
      "[CV 3/5] END criterion=absolute_error, n_estimators=130, random_state=0;, score=0.960 total time=   5.2s\n",
      "[CV 4/5] END criterion=absolute_error, n_estimators=130, random_state=0;, score=0.947 total time=   4.8s\n",
      "[CV 5/5] END criterion=absolute_error, n_estimators=130, random_state=0;, score=0.966 total time=   4.9s\n",
      "[CV 1/5] END criterion=absolute_error, n_estimators=140, random_state=0;, score=0.946 total time=   5.4s\n",
      "[CV 2/5] END criterion=absolute_error, n_estimators=140, random_state=0;, score=0.935 total time=   5.3s\n",
      "[CV 3/5] END criterion=absolute_error, n_estimators=140, random_state=0;, score=0.960 total time=   6.6s\n",
      "[CV 4/5] END criterion=absolute_error, n_estimators=140, random_state=0;, score=0.947 total time=   5.4s\n",
      "[CV 5/5] END criterion=absolute_error, n_estimators=140, random_state=0;, score=0.966 total time=   5.4s\n",
      "[CV 1/5] END criterion=absolute_error, n_estimators=150, random_state=0;, score=0.946 total time=   6.2s\n",
      "[CV 2/5] END criterion=absolute_error, n_estimators=150, random_state=0;, score=0.935 total time=   6.6s\n",
      "[CV 3/5] END criterion=absolute_error, n_estimators=150, random_state=0;, score=0.961 total time=   7.2s\n",
      "[CV 4/5] END criterion=absolute_error, n_estimators=150, random_state=0;, score=0.947 total time=   6.3s\n",
      "[CV 5/5] END criterion=absolute_error, n_estimators=150, random_state=0;, score=0.967 total time=   5.8s\n"
     ]
    },
    {
     "data": {
      "text/plain": [
       "GridSearchCV(estimator=ExtraTreesRegressor(),\n",
       "             param_grid={'criterion': ['squared_error', 'absolute_error'],\n",
       "                         'n_estimators': array([ 60,  70,  80,  90, 100, 110, 120, 130, 140, 150]),\n",
       "                         'random_state': [0]},\n",
       "             verbose=4)"
      ]
     },
     "execution_count": 6,
     "metadata": {},
     "output_type": "execute_result"
    }
   ],
   "source": [
    "from sklearn.ensemble import ExtraTreesRegressor\n",
    "from sklearn.model_selection import GridSearchCV\n",
    "import numpy as np\n",
    "# Capped Number of Estimators to 150 so training times don't get too long\n",
    "estimators = np.linspace(60, 150, 10, dtype = int)\n",
    "parameters = {'random_state': [0], 'n_estimators': estimators,\n",
    "              'criterion': [\"squared_error\", \"absolute_error\"]}\n",
    "clf = GridSearchCV(ExtraTreesRegressor(), parameters, verbose = 4)\n",
    "clf.fit(X_train, y_train)"
   ]
  },
  {
   "cell_type": "markdown",
   "id": "0da795d2",
   "metadata": {},
   "source": [
    "Generate Score and Actual v Predicted Graph"
   ]
  },
  {
   "cell_type": "code",
   "execution_count": 7,
   "id": "af8b01ab",
   "metadata": {
    "scrolled": true
   },
   "outputs": [
    {
     "name": "stdout",
     "output_type": "stream",
     "text": [
      "{'bootstrap': False, 'ccp_alpha': 0.0, 'criterion': 'squared_error', 'max_depth': None, 'max_features': 'auto', 'max_leaf_nodes': None, 'max_samples': None, 'min_impurity_decrease': 0.0, 'min_samples_leaf': 1, 'min_samples_split': 2, 'min_weight_fraction_leaf': 0.0, 'n_estimators': 150, 'n_jobs': None, 'oob_score': False, 'random_state': 0, 'verbose': 0, 'warm_start': False}\n",
      "0.9654041808432126\n"
     ]
    },
    {
     "data": {
      "image/png": "[encoded data removed]",
      "text/plain": [
       "<Figure size 432x288 with 1 Axes>"
      ]
     },
     "metadata": {},
     "output_type": "display_data"
    }
   ],
   "source": [
    "import matplotlib.pyplot as plt\n",
    "bclf = clf.best_estimator_\n",
    "print(bclf.get_params())\n",
    "bclf.fit(X_train, y_train)\n",
    "print(bclf.score(X_test, y_test))\n",
    "prediction = bclf.predict(X_test)\n",
    "\n",
    "fig = plt.figure()\n",
    "fig.patch.set_facecolor(\"#E6E6E6\")\n",
    "ax = fig.add_subplot(1, 1, 1)\n",
    "ax.set_facecolor(\"#E6E6E6\")\n",
    "\n",
    "plt.scatter(y_test, prediction, color = \"#0D6ABF\")\n",
    "plt.plot(y_test, y_test, color = \"red\", label = \"Actual Line\")\n",
    "plt.xlabel(\"Actual Percent Mortality\")\n",
    "plt.ylabel(\"Predicted Percent Mortality\")\n",
    "plt.legend()\n",
    "plt.title(\"Actual vs Predicted Percent Mortality (Extra Trees)\")\n",
    "\n",
    "plt.show()\n",
    "fig.savefig(\"../Presentation Materials/extratrees_predicted_vs_actual.svg\")"
   ]
  },
  {
   "cell_type": "markdown",
   "id": "2c105ae2",
   "metadata": {},
   "source": [
    "Export Best Found Model from the Grid Search"
   ]
  },
  {
   "cell_type": "code",
   "execution_count": 8,
   "id": "a9e24c57",
   "metadata": {},
   "outputs": [],
   "source": [
    "import pickle\n",
    "pickle.dump(bclf, open(\"./Model/extratrees.pkl\", \"wb\"))"
   ]
  },
  {
   "cell_type": "markdown",
   "id": "c26adffc",
   "metadata": {},
   "source": [
    "Manual Tests of Other Models"
   ]
  },
  {
   "cell_type": "code",
   "execution_count": 9,
   "id": "79e28982",
   "metadata": {},
   "outputs": [
    {
     "name": "stdout",
     "output_type": "stream",
     "text": [
      "0.867879503717252\n"
     ]
    },
    {
     "name": "stderr",
     "output_type": "stream",
     "text": [
      "C:\\Users\\agang_drcif5q\\miniconda3\\lib\\site-packages\\sklearn\\base.py:441: UserWarning: X does not have valid feature names, but KNeighborsRegressor was fitted with feature names\n",
      "  warnings.warn(\n",
      "C:\\Users\\agang_drcif5q\\miniconda3\\lib\\site-packages\\sklearn\\base.py:441: UserWarning: X does not have valid feature names, but KNeighborsRegressor was fitted with feature names\n",
      "  warnings.warn(\n"
     ]
    },
    {
     "data": {
      "text/plain": [
       "[<matplotlib.lines.Line2D at 0x1a27c635790>]"
      ]
     },
     "execution_count": 9,
     "metadata": {},
     "output_type": "execute_result"
    },
    {
     "data": {
      "image/png": "[encoded data removed]",
      "text/plain": [
       "<Figure size 432x288 with 1 Axes>"
      ]
     },
     "metadata": {
      "needs_background": "light"
     },
     "output_type": "display_data"
    }
   ],
   "source": [
    "# from sklearn.neighbors import KNeighborsRegressor\n",
    "# knr = KNeighborsRegressor(n_neighbors = 2, weights = \"distance\", p = 1)\n",
    "# knr.fit(X_train, y_train)\n",
    "\n",
    "# print(knr.score(X_test, y_test))\n",
    "\n",
    "# prediction = knr.predict(X_test)\n",
    "# plt.scatter(y_test, prediction)\n",
    "# plt.plot(y_test, y_test)"
   ]
  },
  {
   "cell_type": "code",
   "execution_count": 10,
   "id": "a1c44e66",
   "metadata": {},
   "outputs": [
    {
     "name": "stderr",
     "output_type": "stream",
     "text": [
      "C:\\Users\\agang_drcif5q\\miniconda3\\lib\\site-packages\\sklearn\\base.py:441: UserWarning: X does not have valid feature names, but RadiusNeighborsRegressor was fitted with feature names\n",
      "  warnings.warn(\n",
      "C:\\Users\\agang_drcif5q\\miniconda3\\lib\\site-packages\\sklearn\\neighbors\\_regression.py:474: UserWarning: One or more samples have no neighbors within specified radius; predicting NaN.\n",
      "  warnings.warn(empty_warning_msg)\n"
     ]
    },
    {
     "data": {
      "text/plain": [
       "[<matplotlib.lines.Line2D at 0x1a27c6ae7f0>]"
      ]
     },
     "execution_count": 10,
     "metadata": {},
     "output_type": "execute_result"
    },
    {
     "data": {
      "image/png": "[encoded data removed]",
      "text/plain": [
       "<Figure size 432x288 with 1 Axes>"
      ]
     },
     "metadata": {
      "needs_background": "light"
     },
     "output_type": "display_data"
    }
   ],
   "source": [
    "# from sklearn.neighbors import RadiusNeighborsRegressor\n",
    "# rnr = RadiusNeighborsRegressor(radius = 4, weights = \"distance\", p = 1)\n",
    "# rnr.fit(X_train, y_train)\n",
    "\n",
    "# # print(rnr.score(X_test, y_test))\n",
    "\n",
    "# prediction = rnr.predict(X_test)\n",
    "# plt.scatter(y_test, prediction)\n",
    "# plt.plot(y_test, y_test)"
   ]
  },
  {
   "cell_type": "code",
   "execution_count": 11,
   "id": "e3d82551",
   "metadata": {},
   "outputs": [
    {
     "name": "stdout",
     "output_type": "stream",
     "text": [
      "0.025112878316540854\n"
     ]
    },
    {
     "data": {
      "text/plain": [
       "[<matplotlib.lines.Line2D at 0x1a20290ed30>]"
      ]
     },
     "execution_count": 11,
     "metadata": {},
     "output_type": "execute_result"
    },
    {
     "data": {
      "image/png": "[encoded data removed]",
      "text/plain": [
       "<Figure size 432x288 with 1 Axes>"
      ]
     },
     "metadata": {
      "needs_background": "light"
     },
     "output_type": "display_data"
    }
   ],
   "source": [
    "# from sklearn.gaussian_process import GaussianProcessRegressor\n",
    "# gpr = GaussianProcessRegressor(alpha = 0.01, random_state = 0)\n",
    "# gpr.fit(X_train, y_train)\n",
    "\n",
    "# print(gpr.score(X_test, y_test))\n",
    "\n",
    "# prediction = gpr.predict(X_test)\n",
    "# plt.scatter(y_test, prediction)\n",
    "# plt.plot(y_test, y_test)"
   ]
  },
  {
   "cell_type": "code",
   "execution_count": 12,
   "id": "09040750",
   "metadata": {},
   "outputs": [
    {
     "name": "stdout",
     "output_type": "stream",
     "text": [
      "0.9278139703209385\n"
     ]
    },
    {
     "data": {
      "text/plain": [
       "[<matplotlib.lines.Line2D at 0x1a20297eeb0>]"
      ]
     },
     "execution_count": 12,
     "metadata": {},
     "output_type": "execute_result"
    },
    {
     "data": {
      "image/png": "[encoded data removed]",
      "text/plain": [
       "<Figure size 432x288 with 1 Axes>"
      ]
     },
     "metadata": {
      "needs_background": "light"
     },
     "output_type": "display_data"
    }
   ],
   "source": [
    "# from sklearn.tree import DecisionTreeRegressor\n",
    "# dtr = DecisionTreeRegressor(random_state = 0, criterion = \"absolute_error\", min_samples_split = 5)\n",
    "# dtr.fit(X_train, y_train)\n",
    "\n",
    "# print(dtr.score(X_test, y_test))\n",
    "\n",
    "# prediction = dtr.predict(X_test)\n",
    "# plt.scatter(y_test, prediction)\n",
    "# plt.plot(y_test, y_test)"
   ]
  },
  {
   "cell_type": "code",
   "execution_count": 13,
   "id": "0c92a2cd",
   "metadata": {},
   "outputs": [
    {
     "name": "stdout",
     "output_type": "stream",
     "text": [
      "0.9519139372541012\n"
     ]
    },
    {
     "data": {
      "text/plain": [
       "[<matplotlib.lines.Line2D at 0x1a2029f97f0>]"
      ]
     },
     "execution_count": 13,
     "metadata": {},
     "output_type": "execute_result"
    },
    {
     "data": {
      "image/png": "[encoded data removed]",
      "text/plain": [
       "<Figure size 432x288 with 1 Axes>"
      ]
     },
     "metadata": {
      "needs_background": "light"
     },
     "output_type": "display_data"
    }
   ],
   "source": [
    "# from sklearn.ensemble import RandomForestRegressor\n",
    "# rfr = RandomForestRegressor(random_state = 0, n_estimators = 80, criterion = \"absolute_error\")\n",
    "# rfr.fit(X_train, y_train)\n",
    "\n",
    "# print(rfr.score(X_test, y_test))\n",
    "\n",
    "# prediction = rfr.predict(X_test)\n",
    "# plt.scatter(y_test, prediction)\n",
    "# plt.plot(y_test, y_test)"
   ]
  },
  {
   "cell_type": "code",
   "execution_count": 14,
   "id": "08bd16a5",
   "metadata": {},
   "outputs": [
    {
     "name": "stdout",
     "output_type": "stream",
     "text": [
      "0.8988386013641855\n"
     ]
    },
    {
     "data": {
      "text/plain": [
       "[<matplotlib.lines.Line2D at 0x1a202a8c460>]"
      ]
     },
     "execution_count": 14,
     "metadata": {},
     "output_type": "execute_result"
    },
    {
     "data": {
      "image/png": "[encoded data removed]",
      "text/plain": [
       "<Figure size 432x288 with 1 Axes>"
      ]
     },
     "metadata": {
      "needs_background": "light"
     },
     "output_type": "display_data"
    }
   ],
   "source": [
    "# from sklearn.ensemble import GradientBoostingRegressor\n",
    "# gbr = GradientBoostingRegressor(random_state = 0, loss = \"squared_error\",\n",
    "#                                 n_estimators = 500, learning_rate = 0.5)\n",
    "# gbr.fit(X_train, y_train)\n",
    "\n",
    "# print(gbr.score(X_test, y_test))\n",
    "\n",
    "# prediction = gbr.predict(X_test)\n",
    "# plt.scatter(y_test, prediction)\n",
    "# plt.plot(y_test, y_test)"
   ]
  },
  {
   "cell_type": "code",
   "execution_count": 15,
   "id": "53b75229",
   "metadata": {},
   "outputs": [
    {
     "name": "stdout",
     "output_type": "stream",
     "text": [
      "0.9565681564198816\n"
     ]
    },
    {
     "data": {
      "text/plain": [
       "[<matplotlib.lines.Line2D at 0x1a202b03280>]"
      ]
     },
     "execution_count": 15,
     "metadata": {},
     "output_type": "execute_result"
    },
    {
     "data": {
      "image/png": "[encoded data removed]",
      "text/plain": [
       "<Figure size 432x288 with 1 Axes>"
      ]
     },
     "metadata": {
      "needs_background": "light"
     },
     "output_type": "display_data"
    }
   ],
   "source": [
    "# from sklearn.ensemble import AdaBoostRegressor\n",
    "# from sklearn.tree import DecisionTreeRegressor\n",
    "# abr = AdaBoostRegressor(base_estimator = DecisionTreeRegressor(max_depth = 10, criterion = \"absolute_error\"),\n",
    "#                         random_state = 0, n_estimators = 100, loss = \"exponential\")\n",
    "# abr.fit(X_train, y_train)\n",
    "\n",
    "# print(abr.score(X_test, y_test))\n",
    "\n",
    "# prediction = abr.predict(X_test)\n",
    "# plt.scatter(y_test, prediction)\n",
    "# plt.plot(y_test, y_test)"
   ]
  }
 ],
 "metadata": {
  "kernelspec": {
   "display_name": "Python 3 (ipykernel)",
   "language": "python",
   "name": "python3"
  },
  "language_info": {
   "codemirror_mode": {
    "name": "ipython",
    "version": 3
   },
   "file_extension": ".py",
   "mimetype": "text/x-python",
   "name": "python",
   "nbconvert_exporter": "python",
   "pygments_lexer": "ipython3",
   "version": "3.9.5"
  }
 },
 "nbformat": 4,
 "nbformat_minor": 5
}
